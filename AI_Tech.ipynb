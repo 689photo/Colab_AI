{
  "nbformat": 4,
  "nbformat_minor": 0,
  "metadata": {
    "colab": {
      "provenance": [],
      "authorship_tag": "ABX9TyMr872oovSLljSNBn8RFYPz",
      "include_colab_link": true
    },
    "kernelspec": {
      "name": "python3",
      "display_name": "Python 3"
    },
    "language_info": {
      "name": "python"
    }
  },
  "cells": [
    {
      "cell_type": "markdown",
      "metadata": {
        "id": "view-in-github",
        "colab_type": "text"
      },
      "source": [
        "<a href=\"https://colab.research.google.com/github/689photo/Colab_AI/blob/main/AI_Tech.ipynb\" target=\"_parent\"><img src=\"https://colab.research.google.com/assets/colab-badge.svg\" alt=\"Open In Colab\"/></a>"
      ]
    },
    {
      "cell_type": "code",
      "execution_count": null,
      "metadata": {
        "colab": {
          "base_uri": "https://localhost:8080/"
        },
        "id": "Iam2l7Nf-gNb",
        "outputId": "a04852ec-5fe3-4aee-cb8e-6b8e02566dcf"
      },
      "outputs": [
        {
          "output_type": "stream",
          "name": "stdout",
          "text": [
            "Tell me your age?\n",
            "35\n",
            "Oh! No. You are not acceted.\n"
          ]
        }
      ],
      "source": [
        "print(\"Tell me your age?\")\n",
        "myage = int(input())\n",
        "if myage < 30:\n",
        "  print(\"Welcomt to the Club.\")\n",
        "else:\n",
        "    print(\"Oh! No. You are not acceted.\")"
      ]
    },
    {
      "cell_type": "code",
      "source": [
        "a = 256\n",
        "b = 256\n",
        "a is b\n",
        "\n",
        "if 1:\n",
        "  print(\"hello\")\n",
        "else:\n",
        "  print(\"Bye\")"
      ],
      "metadata": {
        "colab": {
          "base_uri": "https://localhost:8080/"
        },
        "id": "nmXoLkwT-3t5",
        "outputId": "3764cce2-7527-43e0-c6bc-758b57241a1a"
      },
      "execution_count": null,
      "outputs": [
        {
          "output_type": "stream",
          "name": "stdout",
          "text": [
            "hello\n"
          ]
        }
      ]
    },
    {
      "cell_type": "code",
      "source": [
        "birth_year = int(input('당신의 태어난 년도는?'))\n",
        "\n",
        "age = 2021 - birth_year + 1\n",
        "\n",
        "message = \"\"\n",
        "\n",
        "if 20 <= age and age <= 26:\n",
        "  message = \"대학생\"\n",
        "elif 17 <= age and age < 20:\n",
        "  message = \"고등학생\"\n",
        "elif 14 <= age and age <17:\n",
        "  message = \"중학생\"\n",
        "elif 8 <= age and age <14:\n",
        "  message = \"초등학생\"\n",
        "else:\n",
        "  print(\"학생이 아닙니다.\")\n",
        "\n",
        "print(message)"
      ],
      "metadata": {
        "colab": {
          "base_uri": "https://localhost:8080/"
        },
        "id": "YtKhn_XyyTwo",
        "outputId": "93776ff6-d217-4384-a9d9-f25fb7d631b9"
      },
      "execution_count": null,
      "outputs": [
        {
          "output_type": "stream",
          "name": "stdout",
          "text": [
            "당신의 태어난 년도는?2019\n",
            "학생이 아닙니다.\n",
            "\n"
          ]
        }
      ]
    },
    {
      "cell_type": "code",
      "source": [
        "for looper in [1,1,1,1,1]:\n",
        "  print(f\"{looper} : hello\")"
      ],
      "metadata": {
        "colab": {
          "base_uri": "https://localhost:8080/"
        },
        "id": "l2BmOYGr0-aB",
        "outputId": "838fe04b-b330-49ed-ca98-184aa87275bd"
      },
      "execution_count": null,
      "outputs": [
        {
          "output_type": "stream",
          "name": "stdout",
          "text": [
            "1 : hello\n",
            "1 : hello\n",
            "1 : hello\n",
            "1 : hello\n",
            "1 : hello\n"
          ]
        }
      ]
    },
    {
      "cell_type": "code",
      "source": [
        "for looper in range(1, 6):\n",
        "  print(f\"{looper} : hello\")"
      ],
      "metadata": {
        "colab": {
          "base_uri": "https://localhost:8080/"
        },
        "id": "oFiKBvRe1UiH",
        "outputId": "2d0e37c9-9039-44b6-dae5-98afb1159fd4"
      },
      "execution_count": null,
      "outputs": [
        {
          "output_type": "stream",
          "name": "stdout",
          "text": [
            "1 : hello\n",
            "2 : hello\n",
            "3 : hello\n",
            "4 : hello\n",
            "5 : hello\n"
          ]
        }
      ]
    },
    {
      "cell_type": "code",
      "source": [
        "list(range(1, 11))"
      ],
      "metadata": {
        "colab": {
          "base_uri": "https://localhost:8080/"
        },
        "id": "D-FaTgXg2dDI",
        "outputId": "bfb4a792-92c5-447a-d828-db6e45dfca5a"
      },
      "execution_count": null,
      "outputs": [
        {
          "output_type": "execute_result",
          "data": {
            "text/plain": [
              "[1, 2, 3, 4, 5, 6, 7, 8, 9, 10]"
            ]
          },
          "metadata": {},
          "execution_count": 22
        }
      ]
    },
    {
      "cell_type": "code",
      "source": [
        "for i in [\"americano\", \"latte\", \"fiafuchino\"]:\n",
        "  print(i)"
      ],
      "metadata": {
        "colab": {
          "base_uri": "https://localhost:8080/"
        },
        "id": "mglNLFdn2o9k",
        "outputId": "a7d5bbf9-a59e-4c20-ea01-5a46ad0e8fcf"
      },
      "execution_count": null,
      "outputs": [
        {
          "output_type": "stream",
          "name": "stdout",
          "text": [
            "americano\n",
            "latte\n",
            "fiafuchino\n"
          ]
        }
      ]
    },
    {
      "cell_type": "code",
      "source": [
        "for i in range(10, -1, -1):\n",
        "  print(i)"
      ],
      "metadata": {
        "colab": {
          "base_uri": "https://localhost:8080/"
        },
        "id": "eucQTljE21eO",
        "outputId": "e9546ce6-c4b6-483f-c3c7-37913dafd058"
      },
      "execution_count": null,
      "outputs": [
        {
          "output_type": "stream",
          "name": "stdout",
          "text": [
            "10\n",
            "9\n",
            "8\n",
            "7\n",
            "6\n",
            "5\n",
            "4\n",
            "3\n",
            "2\n",
            "1\n",
            "0\n"
          ]
        }
      ]
    },
    {
      "cell_type": "code",
      "source": [
        "i = 1\n",
        "while i <10:\n",
        "  print(i)\n",
        "  i += 1"
      ],
      "metadata": {
        "colab": {
          "base_uri": "https://localhost:8080/"
        },
        "id": "7xq5KG-a3HAB",
        "outputId": "2ec5e313-7801-4c87-c58d-850c71353fcd"
      },
      "execution_count": null,
      "outputs": [
        {
          "output_type": "stream",
          "name": "stdout",
          "text": [
            "1\n",
            "2\n",
            "3\n",
            "4\n",
            "5\n",
            "6\n",
            "7\n",
            "8\n",
            "9\n"
          ]
        }
      ]
    },
    {
      "cell_type": "code",
      "source": [
        "for i in range(10):\n",
        "  if i == 5:\n",
        "    break\n",
        "  print(i)\n",
        "print(\"EOP\")"
      ],
      "metadata": {
        "colab": {
          "base_uri": "https://localhost:8080/"
        },
        "id": "uDhZqN704v2_",
        "outputId": "8028511a-7402-4ad2-8fa3-9e5dc3450980"
      },
      "execution_count": null,
      "outputs": [
        {
          "output_type": "stream",
          "name": "stdout",
          "text": [
            "0\n",
            "1\n",
            "2\n",
            "3\n",
            "4\n",
            "EOP\n"
          ]
        }
      ]
    },
    {
      "cell_type": "code",
      "source": [
        "startNumber = int(input(\"구구단 몇 단?\"))\n",
        "\n",
        "for i in range(1, 10):\n",
        "  print(f\"{startNumber} x {i} = {startNumber*i}\")"
      ],
      "metadata": {
        "colab": {
          "base_uri": "https://localhost:8080/"
        },
        "id": "2b1v0fbl5Nmf",
        "outputId": "feee40c7-9936-431f-efa2-127f7c6b5b2f"
      },
      "execution_count": null,
      "outputs": [
        {
          "output_type": "stream",
          "name": "stdout",
          "text": [
            "구구단 몇 단?3\n",
            "3 x 1 = 3\n",
            "3 x 2 = 6\n",
            "3 x 3 = 9\n",
            "3 x 4 = 12\n",
            "3 x 5 = 15\n",
            "3 x 6 = 18\n",
            "3 x 7 = 21\n",
            "3 x 8 = 24\n",
            "3 x 9 = 27\n"
          ]
        }
      ]
    },
    {
      "cell_type": "code",
      "source": [
        "import random\n",
        "\n",
        "true_value = random.randint(1, 100)\n",
        "input_value = 0\n",
        "print(\"숫자를 맞춰보세요.(1~100)\")\n",
        "while true_value != input_value:\n",
        "  input_value = int(input())\n",
        "\n",
        "  if input_value > true_value:\n",
        "    print(\"숫자가 너무 큽니다.\")\n",
        "  elif input_value < true_value:\n",
        "    print(\"숫자가 너무 작습니다.\")\n",
        "  else:\n",
        "    break\n",
        "\n",
        "print(f\"정답입니다! 정답은 {true_value}!\")"
      ],
      "metadata": {
        "colab": {
          "base_uri": "https://localhost:8080/"
        },
        "id": "ldUbjiaw775z",
        "outputId": "6cef3001-5c0e-40d8-a932-bc1d6a7d939c"
      },
      "execution_count": null,
      "outputs": [
        {
          "output_type": "stream",
          "name": "stdout",
          "text": [
            "숫자를 맞춰보세요.(1~100)\n",
            "50\n",
            "숫자가 너무 큽니다.\n",
            "25\n",
            "정답입니다! 정답은 25\n"
          ]
        }
      ]
    },
    {
      "cell_type": "code",
      "source": [
        "a = \"TEAM\"\n",
        "b = \"LAB\"\n",
        "a+b"
      ],
      "metadata": {
        "colab": {
          "base_uri": "https://localhost:8080/",
          "height": 36
        },
        "id": "T2eC5VS3gDAu",
        "outputId": "b50ccb74-944b-455b-816f-8f3603daea79"
      },
      "execution_count": null,
      "outputs": [
        {
          "output_type": "execute_result",
          "data": {
            "text/plain": [
              "'TEAMLAB'"
            ],
            "application/vnd.google.colaboratory.intrinsic+json": {
              "type": "string"
            }
          },
          "metadata": {},
          "execution_count": 4
        }
      ]
    },
    {
      "cell_type": "code",
      "source": [
        "raw_string = \"Just \\nDo \\nIt\"\n",
        "print(raw_string)"
      ],
      "metadata": {
        "colab": {
          "base_uri": "https://localhost:8080/"
        },
        "id": "DADJAiD-o6Ij",
        "outputId": "8ea98858-88b9-47d5-bf13-2142370daa48"
      },
      "execution_count": null,
      "outputs": [
        {
          "output_type": "stream",
          "name": "stdout",
          "text": [
            "Just \n",
            "Do \n",
            "It\n"
          ]
        }
      ]
    },
    {
      "cell_type": "code",
      "source": [
        "def swap_reference (list_ex, offset_x, offset_y):\n",
        "  temp_list = list_ex[:]\n",
        "  temp = list_ex[offset_x]\n",
        "  list_ex[offset_x] = list_ex[offset_y]\n",
        "  list_ex[offset_y] = temp\n",
        "\n",
        "ex = [1,2,3,4,5]\n",
        "swap_reference(ex, 3,4)\n",
        "print(ex)"
      ],
      "metadata": {
        "colab": {
          "base_uri": "https://localhost:8080/"
        },
        "id": "fDTIkJ0EqXdE",
        "outputId": "36fd9b9f-29f0-48c8-d454-c69e392453a6"
      },
      "execution_count": null,
      "outputs": [
        {
          "output_type": "stream",
          "name": "stdout",
          "text": [
            "[1, 2, 3, 5, 4]\n"
          ]
        }
      ]
    },
    {
      "cell_type": "code",
      "source": [
        "def test(t):\n",
        "  print(x)\n",
        "  t = 20\n",
        "  print(\"In Function :\", t)\n",
        "\n",
        "x = 10\n",
        "test(x)\n",
        "print(t)"
      ],
      "metadata": {
        "colab": {
          "base_uri": "https://localhost:8080/",
          "height": 251
        },
        "id": "H5x3OTE0reNZ",
        "outputId": "b089c419-2e11-411d-d090-596f07a356a2"
      },
      "execution_count": null,
      "outputs": [
        {
          "output_type": "stream",
          "name": "stdout",
          "text": [
            "10\n",
            "In Function : 20\n"
          ]
        },
        {
          "output_type": "error",
          "ename": "NameError",
          "evalue": "ignored",
          "traceback": [
            "\u001b[0;31m---------------------------------------------------------------------------\u001b[0m",
            "\u001b[0;31mNameError\u001b[0m                                 Traceback (most recent call last)",
            "\u001b[0;32m<ipython-input-5-76c5ae939fb9>\u001b[0m in \u001b[0;36m<cell line: 8>\u001b[0;34m()\u001b[0m\n\u001b[1;32m      6\u001b[0m \u001b[0mx\u001b[0m \u001b[0;34m=\u001b[0m \u001b[0;36m10\u001b[0m\u001b[0;34m\u001b[0m\u001b[0;34m\u001b[0m\u001b[0m\n\u001b[1;32m      7\u001b[0m \u001b[0mtest\u001b[0m\u001b[0;34m(\u001b[0m\u001b[0mx\u001b[0m\u001b[0;34m)\u001b[0m\u001b[0;34m\u001b[0m\u001b[0;34m\u001b[0m\u001b[0m\n\u001b[0;32m----> 8\u001b[0;31m \u001b[0mprint\u001b[0m\u001b[0;34m(\u001b[0m\u001b[0mt\u001b[0m\u001b[0;34m)\u001b[0m\u001b[0;34m\u001b[0m\u001b[0;34m\u001b[0m\u001b[0m\n\u001b[0m",
            "\u001b[0;31mNameError\u001b[0m: name 't' is not defined"
          ]
        }
      ]
    },
    {
      "cell_type": "code",
      "source": [
        "def f():\n",
        "  s = \"I love London!\"\n",
        "  print(s)\n",
        "\n",
        "s = \"I love Paris!\"\n",
        "f()\n",
        "print(s)"
      ],
      "metadata": {
        "colab": {
          "base_uri": "https://localhost:8080/"
        },
        "id": "KAPKTGT7tPEb",
        "outputId": "7b82c04e-2819-427f-b445-083e7220e34c"
      },
      "execution_count": null,
      "outputs": [
        {
          "output_type": "stream",
          "name": "stdout",
          "text": [
            "I love London!\n",
            "I love Paris!\n"
          ]
        }
      ]
    },
    {
      "cell_type": "code",
      "source": [
        "def factorial(n):\n",
        "  if n == 1:\n",
        "    return(1)\n",
        "  else:\n",
        "    print(n)\n",
        "    return n * factorial(n-1)\n",
        "print(factorial(int(input(\"Input Number for Factorial Calculation : \"))))"
      ],
      "metadata": {
        "colab": {
          "base_uri": "https://localhost:8080/"
        },
        "id": "G0QBfUkOwYC5",
        "outputId": "8fdbc924-2088-4eb2-a4a6-742869d834cb"
      },
      "execution_count": null,
      "outputs": [
        {
          "output_type": "stream",
          "name": "stdout",
          "text": [
            "Input Number for Factorial Calculation : 5\n",
            "5\n",
            "4\n",
            "3\n",
            "2\n",
            "120\n"
          ]
        }
      ]
    },
    {
      "cell_type": "code",
      "source": [
        "food = 'python\\'s favorite food is perl'\n",
        "say = \"\\\"python is very easy\\\" he says.\"\n",
        "print(f\"{food} \\n {say}\")"
      ],
      "metadata": {
        "id": "xDfBlnsXwnQL",
        "colab": {
          "base_uri": "https://localhost:8080/"
        },
        "outputId": "19e0ba94-ea86-4d37-f3b5-f43f227c0109"
      },
      "execution_count": null,
      "outputs": [
        {
          "output_type": "stream",
          "name": "stdout",
          "text": [
            "python's favorite food is perl \n",
            " \"python is very easy\" he says.\n"
          ]
        }
      ]
    },
    {
      "cell_type": "code",
      "source": [
        "multiline = \"\"\"\n",
        "Life is too short\n",
        "you need python\n",
        "\"\"\"\n",
        "print(multiline)\n",
        "\n",
        "print('=' * 50)\n",
        "print(\"My program\")\n",
        "print(\"=\" * 50)"
      ],
      "metadata": {
        "colab": {
          "base_uri": "https://localhost:8080/"
        },
        "id": "YsZKaZtMQvS1",
        "outputId": "d1c406f3-e98d-4032-ee5b-5a9573464e99"
      },
      "execution_count": null,
      "outputs": [
        {
          "output_type": "stream",
          "name": "stdout",
          "text": [
            "\n",
            "Life is too short\n",
            "you need python\n",
            "\n",
            "==================================================\n",
            "My program\n",
            "==================================================\n"
          ]
        }
      ]
    },
    {
      "cell_type": "code",
      "source": [
        "a = \"Life is too short, You need Python\"\n",
        "len(a)\n",
        "\n",
        "b = \"20230815Rainy\"\n",
        "year = b[0:4]\n",
        "date = b[4:8]\n",
        "weather = b[8:]\n",
        "print(year)\n",
        "print(date)\n",
        "print(weather)"
      ],
      "metadata": {
        "colab": {
          "base_uri": "https://localhost:8080/"
        },
        "id": "ykxL8pZsUiQ0",
        "outputId": "479045d2-87a0-4abe-dbe5-fc0dd26dbd9f"
      },
      "execution_count": null,
      "outputs": [
        {
          "output_type": "stream",
          "name": "stdout",
          "text": [
            "2023\n",
            "0815\n",
            "Rainy\n"
          ]
        }
      ]
    },
    {
      "cell_type": "code",
      "source": [
        "a = [1,2,3,4,5]\n",
        "a.append(10)\n",
        "c = a.pop()"
      ],
      "metadata": {
        "id": "BFjxJplmx5is"
      },
      "execution_count": null,
      "outputs": []
    },
    {
      "cell_type": "code",
      "source": [
        "word = input(\"Input a word : \")\n",
        "word_list = list(word)\n",
        "print(word_list)\n",
        "for _ in range (len(word_list)):\n",
        "  print(word_list.pop())\n",
        "  print(word_list)"
      ],
      "metadata": {
        "colab": {
          "base_uri": "https://localhost:8080/"
        },
        "id": "KoN4NbtXy6m-",
        "outputId": "9b3a0c7b-85fb-4b88-c060-1534320023d2"
      },
      "execution_count": null,
      "outputs": [
        {
          "output_type": "stream",
          "name": "stdout",
          "text": [
            "Input a word : purple\n",
            "['p', 'u', 'r', 'p', 'l', 'e']\n",
            "e\n",
            "['p', 'u', 'r', 'p', 'l']\n",
            "l\n",
            "['p', 'u', 'r', 'p']\n",
            "p\n",
            "['p', 'u', 'r']\n",
            "r\n",
            "['p', 'u']\n",
            "u\n",
            "['p']\n",
            "p\n",
            "[]\n"
          ]
        }
      ]
    },
    {
      "cell_type": "code",
      "source": [
        "#튜플은 값의 변경이 불가능한 리스트\n",
        "t = (1,2,3)\n",
        "print(t + t, t * 2)\n",
        "len(t + t)"
      ],
      "metadata": {
        "colab": {
          "base_uri": "https://localhost:8080/"
        },
        "id": "xFrMMmOsDKCl",
        "outputId": "63ec7e38-0c7d-46a0-affb-4c6d73cde784"
      },
      "execution_count": null,
      "outputs": [
        {
          "output_type": "stream",
          "name": "stdout",
          "text": [
            "(1, 2, 3, 1, 2, 3) (1, 2, 3, 1, 2, 3)\n"
          ]
        },
        {
          "output_type": "execute_result",
          "data": {
            "text/plain": [
              "6"
            ]
          },
          "metadata": {},
          "execution_count": 22
        }
      ]
    },
    {
      "cell_type": "code",
      "source": [
        "#set은 값을 순서 없이 저장, 중복이 불가능한 자료형\n",
        "s1 = set([1,2,3,4,5])\n",
        "s2 = set([3,4,5,6,7])\n",
        "#s1.union(s2) 합집합\n",
        "#s1|s2 합집합\n",
        "#s1.intersection(s2) 교집합\n",
        "#s1 & s2 교집합\n",
        "#s1.difference(s2) 차집합\n",
        "#s2-s1 차집합"
      ],
      "metadata": {
        "id": "l4AqNaetDqlL"
      },
      "execution_count": null,
      "outputs": []
    },
    {
      "cell_type": "code",
      "source": [
        "#dict는 사전형\n",
        "student_info = {20140012:\"sung\", 20140059:\"jiyong\", 20140058:\"jaehong\"}\n",
        "\n",
        "student_info[20140012]"
      ],
      "metadata": {
        "colab": {
          "base_uri": "https://localhost:8080/",
          "height": 36
        },
        "id": "5NQbPopDEwVX",
        "outputId": "a6015eb2-358a-4d27-d077-102e126c376a"
      },
      "execution_count": null,
      "outputs": [
        {
          "output_type": "execute_result",
          "data": {
            "text/plain": [
              "'sung'"
            ],
            "application/vnd.google.colaboratory.intrinsic+json": {
              "type": "string"
            }
          },
          "metadata": {},
          "execution_count": 41
        }
      ]
    },
    {
      "cell_type": "code",
      "source": [
        "country_code = {}\n",
        "country_code = {\"America\" : 1, \"Korea\" : 82, \"Japan\" : 81}\n",
        "country_code.items()\n",
        "country_code.keys()\n",
        "country_code[\"German\"]=49\n",
        "country_code"
      ],
      "metadata": {
        "colab": {
          "base_uri": "https://localhost:8080/"
        },
        "id": "BxG6H4FHFdF7",
        "outputId": "4d656a5b-5142-4ec7-c8a2-3c05b49b7b3f"
      },
      "execution_count": null,
      "outputs": [
        {
          "output_type": "execute_result",
          "data": {
            "text/plain": [
              "{'America': 1, 'Korea': 82, 'Japan': 81, 'German': 49}"
            ]
          },
          "metadata": {},
          "execution_count": 49
        }
      ]
    },
    {
      "cell_type": "code",
      "source": [],
      "metadata": {
        "id": "qgAtKZRHGKzx"
      },
      "execution_count": null,
      "outputs": []
    }
  ]
}