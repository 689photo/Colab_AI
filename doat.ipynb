{
  "nbformat": 4,
  "nbformat_minor": 0,
  "metadata": {
    "colab": {
      "provenance": [],
      "authorship_tag": "ABX9TyNAXQZcZyW/WcCpDYD+z1/N",
      "include_colab_link": true
    },
    "kernelspec": {
      "name": "python3",
      "display_name": "Python 3"
    },
    "language_info": {
      "name": "python"
    },
    "accelerator": "GPU",
    "gpuClass": "standard"
  },
  "cells": [
    {
      "cell_type": "markdown",
      "metadata": {
        "id": "view-in-github",
        "colab_type": "text"
      },
      "source": [
        "<a href=\"https://colab.research.google.com/github/689photo/Colab_DeepLearning/blob/main/doat.ipynb\" target=\"_parent\"><img src=\"https://colab.research.google.com/assets/colab-badge.svg\" alt=\"Open In Colab\"/></a>"
      ]
    },
    {
      "cell_type": "code",
      "execution_count": 2,
      "metadata": {
        "id": "VNR_S1u1fM0V",
        "colab": {
          "base_uri": "https://localhost:8080/"
        },
        "outputId": "53f54dad-3a20-4cae-8f10-e288e727d3ef"
      },
      "outputs": [
        {
          "output_type": "stream",
          "name": "stdout",
          "text": [
            "Warning: Your Kaggle API key is readable by other users on this system! To fix this, you can run 'chmod 600 /content/kaggle.json'\n",
            "Downloading dogs-vs-cats-redux-kernels-edition.zip to /content\n",
            " 99% 809M/814M [00:05<00:00, 136MB/s]\n",
            "100% 814M/814M [00:05<00:00, 155MB/s]\n"
          ]
        }
      ],
      "source": [
        "import os\n",
        "os.environ['KAGGLE_CONFIG_DIR'] = '/content/'\n",
        "\n",
        "!kaggle competitions download -c dogs-vs-cats-redux-kernels-edition"
      ]
    },
    {
      "cell_type": "code",
      "source": [
        "!unzip -q train.zip -d ."
      ],
      "metadata": {
        "id": "J7_d4Ok43f4z"
      },
      "execution_count": 4,
      "outputs": []
    },
    {
      "cell_type": "code",
      "source": [
        "import tensorflow as tf\n",
        "import shutil\n",
        "\n",
        "print(len(os.listdir('/content/train/')))\n",
        "#폴더 안에 파일 갯수 세기\n",
        "\n",
        "os.mkdir('/content/dataset/')\n",
        "os.mkdir('/content/dataset/cat/')\n",
        "os.mkdir('/content/dataset/dog/')\n",
        "#폴더 만들기\n",
        "\n",
        "for i in os.listdir('/content/train/'):\n",
        "  if 'cat' in i:\n",
        "    shutil.copyfile('/content/train/' + i, '/content/dataset/cat/' + i)\n",
        "  if 'dog' in i:\n",
        "    shutil.copyfile('/content/train/' + i, '/content/dataset/dog/' + i)\n",
        "#폴더 안에 있는 고양이 / 강아지 사진 구분해서 폴더로 이동시키기\n",
        "\n",
        "#tf.keras.preprocessing.image_dataset_from_directory()\n"
      ],
      "metadata": {
        "colab": {
          "base_uri": "https://localhost:8080/"
        },
        "id": "-nMHA_V23H8H",
        "outputId": "9d1f0688-e687-4900-d86b-7f465b219e57"
      },
      "execution_count": 5,
      "outputs": [
        {
          "output_type": "stream",
          "name": "stdout",
          "text": [
            "25000\n"
          ]
        }
      ]
    },
    {
      "cell_type": "code",
      "source": [
        "train_ds = tf.keras.preprocessing.image_dataset_from_directory(\n",
        "    '/content/dataset/',\n",
        "    image_size=(64,64),\n",
        "    batch_size=64,\n",
        "    subset='training',\n",
        "    validation_split=0.2,\n",
        "    seed=1234\n",
        ")\n",
        "\n",
        "val_ds = tf.keras.preprocessing.image_dataset_from_directory(\n",
        "    '/content/dataset/',\n",
        "    image_size=(64,64),\n",
        "    batch_size=64,\n",
        "    subset='validation',\n",
        "    validation_split=0.2,\n",
        "    seed=1234\n",
        ")\n",
        "\n",
        "print(train_ds)\n",
        "\n",
        "def 전처리함수(i, 정답):\n",
        "  i = tf.cast(i/255.0, tf.float32)\n",
        "  return i, 정답\n",
        "\n",
        "train_ds = train_ds.map(전처리함수)\n",
        "val_ds = val_ds.map(전처리함수)\n",
        "\n",
        "#import matplotlib.pyplot as plt\n",
        "#\n",
        "#for i, 정답 in train_ds.take(1):\n",
        "#  print(i)\n",
        "#  print(정답)\n",
        "#  plt.imshow(i[10].numpy().astype('uint8'))\n",
        "#  plt.show()"
      ],
      "metadata": {
        "colab": {
          "base_uri": "https://localhost:8080/"
        },
        "id": "WuIXtgX-4Vf6",
        "outputId": "c02f5f4e-cd74-4c32-b100-60c9553d8a26"
      },
      "execution_count": 7,
      "outputs": [
        {
          "output_type": "stream",
          "name": "stdout",
          "text": [
            "Found 25000 files belonging to 2 classes.\n",
            "Using 20000 files for training.\n",
            "Found 25000 files belonging to 2 classes.\n",
            "Using 5000 files for validation.\n",
            "<BatchDataset element_spec=(TensorSpec(shape=(None, 64, 64, 3), dtype=tf.float32, name=None), TensorSpec(shape=(None,), dtype=tf.int32, name=None))>\n"
          ]
        }
      ]
    },
    {
      "cell_type": "code",
      "source": [
        "model = tf.keras.Sequential([\n",
        "    tf.keras.layers.Conv2D(32,(3,3), padding=\"same\", activation='relu', input_shape=(64,64,3)),\n",
        "    tf.keras.layers.MaxPooling2D((2,2)),\n",
        "    tf.keras.layers.Conv2D(64,(3,3), padding=\"same\", activation='relu'),\n",
        "    tf.keras.layers.MaxPooling2D((2,2)),\n",
        "    tf.keras.layers.Dropout(0.2),\n",
        "    #overfitting을 완화하기 위해서 Dropout\n",
        "    tf.keras.layers.Conv2D(128,(3,3), padding=\"same\", activation='relu'),\n",
        "    tf.keras.layers.MaxPooling2D((2,2)),\n",
        "    tf.keras.layers.Flatten(),\n",
        "    tf.keras.layers.Dense(64, activation=\"relu\"),\n",
        "    tf.keras.layers.Dropout(0.2),\n",
        "    tf.keras.layers.Dense(1, activation=\"sigmoid\"),\n",
        "])\n",
        "\n",
        "model.summary()\n",
        "\n",
        "model.compile(loss=\"binary_crossentropy\", optimizer=\"adam\", metrics=['accuracy'])\n",
        "model.fit(train_ds, validation_data=val_ds, epochs=5)\n"
      ],
      "metadata": {
        "colab": {
          "base_uri": "https://localhost:8080/"
        },
        "id": "pJns13-m3-Y0",
        "outputId": "5bd0c3ed-d833-45b5-b148-1cfed602d83b"
      },
      "execution_count": 8,
      "outputs": [
        {
          "output_type": "stream",
          "name": "stdout",
          "text": [
            "Model: \"sequential_1\"\n",
            "_________________________________________________________________\n",
            " Layer (type)                Output Shape              Param #   \n",
            "=================================================================\n",
            " conv2d_3 (Conv2D)           (None, 64, 64, 32)        896       \n",
            "                                                                 \n",
            " max_pooling2d_3 (MaxPooling  (None, 32, 32, 32)       0         \n",
            " 2D)                                                             \n",
            "                                                                 \n",
            " conv2d_4 (Conv2D)           (None, 32, 32, 64)        18496     \n",
            "                                                                 \n",
            " max_pooling2d_4 (MaxPooling  (None, 16, 16, 64)       0         \n",
            " 2D)                                                             \n",
            "                                                                 \n",
            " dropout_2 (Dropout)         (None, 16, 16, 64)        0         \n",
            "                                                                 \n",
            " conv2d_5 (Conv2D)           (None, 16, 16, 128)       73856     \n",
            "                                                                 \n",
            " max_pooling2d_5 (MaxPooling  (None, 8, 8, 128)        0         \n",
            " 2D)                                                             \n",
            "                                                                 \n",
            " flatten_1 (Flatten)         (None, 8192)              0         \n",
            "                                                                 \n",
            " dense_2 (Dense)             (None, 64)                524352    \n",
            "                                                                 \n",
            " dropout_3 (Dropout)         (None, 64)                0         \n",
            "                                                                 \n",
            " dense_3 (Dense)             (None, 1)                 65        \n",
            "                                                                 \n",
            "=================================================================\n",
            "Total params: 617,665\n",
            "Trainable params: 617,665\n",
            "Non-trainable params: 0\n",
            "_________________________________________________________________\n",
            "Epoch 1/5\n",
            "313/313 [==============================] - 33s 66ms/step - loss: 0.5947 - accuracy: 0.6684 - val_loss: 0.4925 - val_accuracy: 0.7626\n",
            "Epoch 2/5\n",
            "313/313 [==============================] - 21s 67ms/step - loss: 0.4784 - accuracy: 0.7710 - val_loss: 0.4592 - val_accuracy: 0.7826\n",
            "Epoch 3/5\n",
            "313/313 [==============================] - 22s 69ms/step - loss: 0.4238 - accuracy: 0.8048 - val_loss: 0.4018 - val_accuracy: 0.8184\n",
            "Epoch 4/5\n",
            "313/313 [==============================] - 21s 67ms/step - loss: 0.3826 - accuracy: 0.8271 - val_loss: 0.4115 - val_accuracy: 0.8122\n",
            "Epoch 5/5\n",
            "313/313 [==============================] - 19s 61ms/step - loss: 0.3371 - accuracy: 0.8510 - val_loss: 0.3849 - val_accuracy: 0.8360\n"
          ]
        },
        {
          "output_type": "execute_result",
          "data": {
            "text/plain": [
              "<keras.callbacks.History at 0x7f450c172310>"
            ]
          },
          "metadata": {},
          "execution_count": 8
        }
      ]
    }
  ]
}