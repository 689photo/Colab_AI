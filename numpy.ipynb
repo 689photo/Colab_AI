{
  "nbformat": 4,
  "nbformat_minor": 0,
  "metadata": {
    "colab": {
      "provenance": [],
      "authorship_tag": "ABX9TyMPyMR2cu/+YNBrs3tp9glJ",
      "include_colab_link": true
    },
    "kernelspec": {
      "name": "python3",
      "display_name": "Python 3"
    },
    "language_info": {
      "name": "python"
    }
  },
  "cells": [
    {
      "cell_type": "markdown",
      "metadata": {
        "id": "view-in-github",
        "colab_type": "text"
      },
      "source": [
        "<a href=\"https://colab.research.google.com/github/689photo/Colab_AI/blob/main/numpy.ipynb\" target=\"_parent\"><img src=\"https://colab.research.google.com/assets/colab-badge.svg\" alt=\"Open In Colab\"/></a>"
      ]
    },
    {
      "cell_type": "code",
      "execution_count": null,
      "metadata": {
        "colab": {
          "base_uri": "https://localhost:8080/"
        },
        "id": "hiY4uKFBj2xg",
        "outputId": "4f823ae9-999c-441d-dfdd-0b7190fb4817"
      },
      "outputs": [
        {
          "output_type": "stream",
          "name": "stdout",
          "text": [
            "[1. 4. 5. 8.]\n"
          ]
        },
        {
          "output_type": "execute_result",
          "data": {
            "text/plain": [
              "numpy.float64"
            ]
          },
          "metadata": {},
          "execution_count": 2
        }
      ],
      "source": [
        "import numpy as np\n",
        "test_array = np.array([\"1\", \"4\", 5, 8], float)\n",
        "#numpy는 np.array 함수를 활용해 ndarray객체를 만듬.\n",
        "print(test_array)\n",
        "type(test_array[3])"
      ]
    },
    {
      "cell_type": "code",
      "source": [
        "a = [[1,2,3,4], [3, 4,5,6], [3,4,5,6]]\n",
        "np.array(a).shape"
      ],
      "metadata": {
        "colab": {
          "base_uri": "https://localhost:8080/"
        },
        "id": "5efhnjXBNo-A",
        "outputId": "172a5610-43ff-40a2-c2c2-72fb60dec9c9"
      },
      "execution_count": null,
      "outputs": [
        {
          "output_type": "execute_result",
          "data": {
            "text/plain": [
              "(3, 4)"
            ]
          },
          "metadata": {},
          "execution_count": 5
        }
      ]
    },
    {
      "cell_type": "code",
      "source": [],
      "metadata": {
        "id": "Rh_4U-gVSiOz"
      },
      "execution_count": null,
      "outputs": []
    }
  ]
}